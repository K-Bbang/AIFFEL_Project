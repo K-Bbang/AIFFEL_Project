{
  "nbformat": 4,
  "nbformat_minor": 0,
  "metadata": {
    "colab": {
      "provenance": [],
      "collapsed_sections": [
        "dSQZcvYw_lml",
        "vvFdJZzI_wC7",
        "oPCtQzTPCXRg",
        "HDU8XSUMT6jC"
      ],
      "toc_visible": true,
      "authorship_tag": "ABX9TyNvewlsBJKAh2dGQZxCcfON",
      "include_colab_link": true
    },
    "kernelspec": {
      "name": "python3",
      "display_name": "Python 3"
    },
    "language_info": {
      "name": "python"
    }
  },
  "cells": [
    {
      "cell_type": "markdown",
      "metadata": {
        "id": "view-in-github",
        "colab_type": "text"
      },
      "source": [
        "<a href=\"https://colab.research.google.com/github/K-Bbang/AIFFEL_Project/blob/master/Growing_Python/%EC%9E%90%EB%9E%80%EB%8B%A4_%ED%8C%8C%EC%9D%B4%EC%8D%AC_project.ipynb\" target=\"_parent\"><img src=\"https://colab.research.google.com/assets/colab-badge.svg\" alt=\"Open In Colab\"/></a>"
      ]
    },
    {
      "cell_type": "markdown",
      "source": [
        "# 평가문항 1: 평행사변형, 사다리꼴 넓이"
      ],
      "metadata": {
        "id": "dSQZcvYw_lml"
      }
    },
    {
      "cell_type": "code",
      "execution_count": null,
      "metadata": {
        "id": "wk9z4ocS8lL_"
      },
      "outputs": [],
      "source": [
        "# 사각형, 사다리꼴, 평행사변형 넓이 구하기\n",
        "\n",
        "class Square:\n",
        "    def __init__(self):\n",
        "        self.square = int(input('넓이를 구하고 싶은 사각형의 숫자를 써주세요.\\n 1.직사각형 2.평행사변형 3.사다리꼴 \\n >>>'))\n",
        "        if self.square == 1:\n",
        "            print('직사각형 함수는 rect()입니다.')\n",
        "\n",
        "        elif self.square == 2:\n",
        "            print('평행사변형 함수는 par()입니다.')\n",
        "\n",
        "        elif self.square == 3:\n",
        "            print('사다리꼴 함수는 trape()입니다.')\n",
        "\n",
        "        else:\n",
        "            print('1, 2, 3 중에서 다시 입력해주세요')\n",
        "\n",
        "\n",
        "    def rect(self):\n",
        "        width, vertical = map(int, input('가로, 세로를 입력하세요. 예시 : 가로,세로\\n >>>').split(','))\n",
        "        area = width * vertical\n",
        "        result = '직사각형의 넓이는 : ' + str(area)\n",
        "        return result\n",
        "\n",
        "    def par(self):\n",
        "        base, height = map(int, input('밑변, 높이를 입력하세요. 예시 : 밑변, 높이\\n >>>').split(','))\n",
        "        area = base * height\n",
        "        result = '평행사변형의 넓이는 : ' + str(area)\n",
        "        return result\n",
        "\n",
        "    def trape(self):\n",
        "        upper, lower, height = map(int, input('윗변, 아랫변, 높이를 입력하세요. 예시 : 윗변,아랫변,높이\\n >>>').split(','))# [[YOUR CODE]]\n",
        "        area = (upper + lower) * height/2\n",
        "        result = '사다리꼴의 넓이는: ' + str(area)\n",
        "        return result"
      ]
    },
    {
      "cell_type": "code",
      "source": [
        "# 객체 생성 및 출력 1\n",
        "a = Square()\n",
        "a.rect()"
      ],
      "metadata": {
        "colab": {
          "base_uri": "https://localhost:8080/",
          "height": 144
        },
        "id": "Xaj39SA6-a81",
        "outputId": "eb07dffd-6e99-49e1-f4fd-a32a41db6669"
      },
      "execution_count": null,
      "outputs": [
        {
          "name": "stdout",
          "output_type": "stream",
          "text": [
            "넓이를 구하고 싶은 사각형의 숫자를 써주세요.\n",
            " 1.직사각형 2.평행사변형 3.사다리꼴 \n",
            " >>>1\n",
            "직사각형 함수는 rect()입니다.\n",
            "가로, 세로를 입력하세요. 예시 : 가로,세로\n",
            " >>>2,4\n"
          ]
        },
        {
          "output_type": "execute_result",
          "data": {
            "text/plain": [
              "'직사각형의 넓이는 : 8'"
            ],
            "application/vnd.google.colaboratory.intrinsic+json": {
              "type": "string"
            }
          },
          "metadata": {},
          "execution_count": 13
        }
      ]
    },
    {
      "cell_type": "code",
      "source": [
        "# 객체 생성 및 출력 2\n",
        "a = Square()\n",
        "a.par()"
      ],
      "metadata": {
        "colab": {
          "base_uri": "https://localhost:8080/",
          "height": 144
        },
        "id": "MzExIQ05-ffR",
        "outputId": "eb3b851b-f9c2-4134-cb44-be9b01c03d43"
      },
      "execution_count": null,
      "outputs": [
        {
          "name": "stdout",
          "output_type": "stream",
          "text": [
            "넓이를 구하고 싶은 사각형의 숫자를 써주세요.\n",
            " 1.직사각형 2.평행사변형 3.사다리꼴 \n",
            " >>>2\n",
            "평행사변형 함수는 par()입니다.\n",
            "밑변, 높이를 입력하세요. 예시 : 밑변, 높이\n",
            " >>>3,5\n"
          ]
        },
        {
          "output_type": "execute_result",
          "data": {
            "text/plain": [
              "'평행사변형의 넓이는 : 15'"
            ],
            "application/vnd.google.colaboratory.intrinsic+json": {
              "type": "string"
            }
          },
          "metadata": {},
          "execution_count": 14
        }
      ]
    },
    {
      "cell_type": "code",
      "source": [
        "# 객체 생성 및 출력 3\n",
        "a = Square()\n",
        "a.trape()"
      ],
      "metadata": {
        "colab": {
          "base_uri": "https://localhost:8080/",
          "height": 144
        },
        "id": "bN9BPkHa-or8",
        "outputId": "d1383d64-1ea8-4e5f-c184-c21ae64025b6"
      },
      "execution_count": null,
      "outputs": [
        {
          "name": "stdout",
          "output_type": "stream",
          "text": [
            "넓이를 구하고 싶은 사각형의 숫자를 써주세요.\n",
            " 1.직사각형 2.평행사변형 3.사다리꼴 \n",
            " >>>3\n",
            "사다리꼴 함수는 trape()입니다.\n",
            "윗변, 아랫변, 높이를 입력하세요. 예시 : 윗변,아랫변,높이\n",
            " >>>2,4,5\n"
          ]
        },
        {
          "output_type": "execute_result",
          "data": {
            "text/plain": [
              "'사다리꼴의 넓이는: 15.0'"
            ],
            "application/vnd.google.colaboratory.intrinsic+json": {
              "type": "string"
            }
          },
          "metadata": {},
          "execution_count": 16
        }
      ]
    },
    {
      "cell_type": "markdown",
      "source": [
        "# 평가문항 2: Kiosk 클래스를 생성하고, 주문, 추가 주문 메서드"
      ],
      "metadata": {
        "id": "vvFdJZzI_wC7"
      }
    },
    {
      "cell_type": "code",
      "source": [
        "# 주문 메소드 작성(메뉴출력, 주문, 온도 선택)\n",
        "\n",
        "# 메뉴 및 가격 변수\n",
        "menu = ['americano', 'latte', 'mocha', 'yuza_tea', 'green_tea', 'choco_latte']\n",
        "price = [2000, 3000, 3000, 2500, 2500, 3000]\n",
        "\n",
        "# 클래스 생성\n",
        "class Kiosk:\n",
        "  def __init__(self):\n",
        "    self.menu = menu\n",
        "    self.price = price\n",
        "\n",
        "# 메뉴 출력 메소드\n",
        "  def menu_print(self):\n",
        "    for i in range(len(self.menu)):\n",
        "      print(i + 1, self.menu[i], ' : ', self.price[i], '원')\n",
        "# 주문 메소드\n",
        "  def menu_select(self):\n",
        "    self.order_menu = []  # 주문 리스트\n",
        "    self.order_price = []  # 가격 리스트\n",
        "\n",
        "    n = 0\n",
        "    while n < 1 or len(menu) < n:\n",
        "        n = int(input(\"음료를 번호를 입력하세요 : \"))  # 음료 번호 입력\n",
        "\n",
        "        # 메뉴판에 있는 음료 번호일 때\n",
        "        if 1 <= n & n <= len(menu):\n",
        "            self.price_sum = self.price[n-1]  # 합계 금액\n",
        "\n",
        "            # 메뉴판에 없는 번호일 때\n",
        "        else:\n",
        "            print(\"없는 메뉴입니다. 다시 주문해 주세요.\")\n",
        "\n",
        "\n",
        "    # 음료 온도 물어보기\n",
        "    t = 0  # 기본값\n",
        "    while t != 1 and t != 2:  # 1이나 2를 입력할 때까지 물어보기\n",
        "        t= int(input(\"HOT 음료는 1을, ICE 음료는 2를 입력하세요 : \"))\n",
        "        # 문제 2-3의 답을 입력하세요.\n",
        "        if t == 1:\n",
        "            self.temp = 'Hot'\n",
        "        elif t == 2:\n",
        "            self.temp = 'Ice'\n",
        "        else:\n",
        "            print(\"1과 2 중 하나를 입력하세요.\\n\")\n",
        "    self.order_price.append(self.price[n-1]) # 가격 리스트에 추가\n",
        "    self.order_menu.append(self.temp + ' ' + self.menu[n-1]) # 주문 리스트에 추가\n",
        "    print('주문음료', self.temp, self.menu[n-1], ' : ', self.price_sum, '원')  # 온도 속성을 추가한 주문 결과를 출력합니다.\n",
        "\n",
        "    # 추가 주문 또는 지불\n",
        "    while n != 0:  # 지불을 선택하기 전까지 반복.\n",
        "        print()  # 줄 바꾸면서\n",
        "        n = int(input(\"추가 주문은 음료 번호를, 지불은 0을 누르세요 : \"))  # 추가 주문 또는 지불\n",
        "        if n > 0 and n < len(self.menu) + 1:\n",
        "            # 추가 음료 온도\n",
        "            t = 0\n",
        "            while t != 1 and t != 2:\n",
        "                t= int(input(\"HOT 음료는 1을, ICE 음료는 2를 입력하세요 : \"))\n",
        "                if t == 1:\n",
        "                    self.temp = 'Hot'\n",
        "                elif t == 2:\n",
        "                    self.temp = 'Ice'\n",
        "                else:\n",
        "                    print(\"1과 2 중 하나를 입력하세요.\\n\")\n",
        "            # 추가 주문 처리\n",
        "            self.order_price.append(self.price[n-1]) # 가격 리스트에 추가\n",
        "            self.order_menu.append(self.temp + '' + self.menu[n-1]) # 주문 리스트에 추가\n",
        "            self.price_sum += self.price[n-1] # 합계금액\n",
        "            print('추가 주문 음료', self.temp, self.menu[n-1], ' : ', self.price[n-1], '원\\n', '합계: ',self.price_sum, '원')\n",
        "\n",
        "        else :\n",
        "            if n == 0 :  # 지불을 입력하면\n",
        "                print(\"주문이 완료되었습니다.\")\n",
        "                print(self.order_menu, self.order_price)  # 확인을 위한 리스트를 출력\n",
        "            else :  # 없는 번호를 입력할 때\n",
        "                print(\"없는 메뉴입니다. 다시 주문해 주세요.\")"
      ],
      "metadata": {
        "id": "V8FumzgF_x33"
      },
      "execution_count": 66,
      "outputs": []
    },
    {
      "cell_type": "code",
      "source": [
        "# 객체 생성 및 주문/추가주문 출력\n",
        "a = Kiosk()\n",
        "a.menu_print()\n",
        "a.menu_select()"
      ],
      "metadata": {
        "id": "y52BHr4RBOjy",
        "colab": {
          "base_uri": "https://localhost:8080/"
        },
        "outputId": "2d22a4d2-6de4-41b2-f42d-1d0d0590c52a"
      },
      "execution_count": 67,
      "outputs": [
        {
          "output_type": "stream",
          "name": "stdout",
          "text": [
            "1 americano  :  2000 원\n",
            "2 latte  :  3000 원\n",
            "3 mocha  :  3000 원\n",
            "4 yuza_tea  :  2500 원\n",
            "5 green_tea  :  2500 원\n",
            "6 choco_latte  :  3000 원\n",
            "음료를 번호를 입력하세요 : 1\n",
            "HOT 음료는 1을, ICE 음료는 2를 입력하세요 : 2\n",
            "주문음료 Ice americano  :  2000 원\n",
            "\n",
            "추가 주문은 음료 번호를, 지불은 0을 누르세요 : 6\n",
            "HOT 음료는 1을, ICE 음료는 2를 입력하세요 : 2\n",
            "추가 주문 음료 Ice choco_latte  :  3000 원\n",
            " 합계:  5000 원\n",
            "\n",
            "추가 주문은 음료 번호를, 지불은 0을 누르세요 : 0\n",
            "주문이 완료되었습니다.\n",
            "['Ice americano', 'Icechoco_latte'] [2000, 3000]\n"
          ]
        }
      ]
    },
    {
      "cell_type": "markdown",
      "source": [
        "# 평가문항 3: 지불, 주문표 작성 메서드"
      ],
      "metadata": {
        "id": "oPCtQzTPCXRg"
      }
    },
    {
      "cell_type": "code",
      "source": [
        "    # 지불 메소드\n",
        "    def pay(self):\n",
        "        print()\n",
        "        n = int(input(\"결제 수단을 입력하세요. 현금은 1번, 카드는 2번: \"))\n",
        "        print(f\"총 금액은 {self.price_sum}\")\n",
        "        if n == 'cash' or n == 1:\n",
        "            print('직원을 호출하겠습니다.')\n",
        "        elif n == 'card' or n == 2:\n",
        "            print('IC칩 방향에 맞게 카드를 꽂아주세요.')\n",
        "        else:\n",
        "            print('다시 입력해주세요.')\n",
        "\n",
        "    # 주문서 출력 메소드\n",
        "    def table(self):\n",
        "        outline1 = '⟝' + '-' * 30 + '⟞'\n",
        "        outline2 = '|' + ' ' * 31 + '|'\n",
        "        print(outline1)\n",
        "        for i in range(5):\n",
        "            print(outline2)\n",
        "        for i in range(len(self.order_menu)):\n",
        "            print(self.order_menu[i], ' : ', self.order_price[i])\n",
        "        print('합계 금액 :', self.price_sum)\n",
        "        for i in range(5):\n",
        "            print(outline2)\n",
        "        print(outline1)"
      ],
      "metadata": {
        "id": "ZgGv4kXUCZJQ"
      },
      "execution_count": 68,
      "outputs": []
    },
    {
      "cell_type": "code",
      "source": [
        "# 클래스에 지불 메소드 추가 및 출력\n",
        "Kiosk.pay = pay\n",
        "a.pay()\n",
        "\n",
        "# 클래스 주문표 메소드 추가 및 출력\n",
        "Kiosk.table = table # 지불\n",
        "a.table()  # 주문표 출력"
      ],
      "metadata": {
        "colab": {
          "base_uri": "https://localhost:8080/"
        },
        "id": "o4uETItAFaeu",
        "outputId": "a1a8a5e6-298d-4ff5-b3b2-8fcbadba5348"
      },
      "execution_count": 70,
      "outputs": [
        {
          "output_type": "stream",
          "name": "stdout",
          "text": [
            "\n",
            "결제 수단을 입력하세요. 현금은 1번, 카드는 2번: 2\n",
            "총 금액은 5000\n",
            "IC칩 방향에 맞게 카드를 꽂아주세요.\n",
            "⟝------------------------------⟞\n",
            "|                               |\n",
            "|                               |\n",
            "|                               |\n",
            "|                               |\n",
            "|                               |\n",
            "Ice americano  :  2000\n",
            "Icechoco_latte  :  3000\n",
            "합계 금액 : 5000\n",
            "|                               |\n",
            "|                               |\n",
            "|                               |\n",
            "|                               |\n",
            "|                               |\n",
            "⟝------------------------------⟞\n"
          ]
        }
      ]
    },
    {
      "cell_type": "markdown",
      "source": [
        "# 회고"
      ],
      "metadata": {
        "id": "HDU8XSUMT6jC"
      }
    },
    {
      "cell_type": "markdown",
      "source": [
        "1. 전체 과정을 공부하며: 파이썬의 기본적인 문법을 강의와 실습을 통해 쉽게 배울 수 있었다. 강사의 설명을 들으며, 노드의 실습 코드를 직접 쳐보며 연습하는 게 개념 습득에 큰 도움이 되었다.\n",
        "\n",
        "2. 프로젝트 과제를 진행하며: 강의에서 배운 각 개념을 응용해 코드 작성하는게 생각보다 쉽지 않았다. 특히, 주어진 문제에 대해서, 코드 작성자가 나름의 구조를 만들고, 그 구조에 따라 코드를 작성하는게 어려웠다.\n",
        "\n",
        "3. 보완점: 프로그래밍 문제를 계속 풀어보며 해당 문제를 내 나름대로 구조화하고, 그 구조에 따라 코드 작성하는 연습을 해야 겠다(예를 들어 코드를 짜기 전에 comment로 얼개를 만드는 것)"
      ],
      "metadata": {
        "id": "NXSOl-V8T8fh"
      }
    }
  ]
}